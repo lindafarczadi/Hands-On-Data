{
 "cells": [
  {
   "cell_type": "code",
   "execution_count": 1,
   "metadata": {
    "collapsed": true
   },
   "outputs": [],
   "source": [
    "import pandas as pd\n",
    "from stravalib.client import Client"
   ]
  },
  {
   "cell_type": "code",
   "execution_count": 2,
   "metadata": {},
   "outputs": [],
   "source": [
    "#Fill out personal token from Strava app\n",
    "token = 'f4b6b13c7405e44460e7a24a6be29c2757109606'"
   ]
  },
  {
   "cell_type": "markdown",
   "metadata": {},
   "source": [
    "# Athlete"
   ]
  },
  {
   "cell_type": "code",
   "execution_count": 3,
   "metadata": {
    "collapsed": true
   },
   "outputs": [],
   "source": [
    "#create Client object from stravalib library\n",
    "client = Client(access_token=token)\n",
    "#get activities\n",
    "activities = client.get_activities(limit=1000)"
   ]
  },
  {
   "cell_type": "code",
   "execution_count": 5,
   "metadata": {},
   "outputs": [
    {
     "data": {
      "text/plain": [
       "{'achievement_count': 6,\n",
       " 'athlete': {'admin': None,\n",
       "  'agreed_to_terms': None,\n",
       "  'approve_followers': None,\n",
       "  'athlete_type': None,\n",
       "  'badge_type_id': None,\n",
       "  'bikes': None,\n",
       "  'city': None,\n",
       "  'clubs': None,\n",
       "  'country': None,\n",
       "  'created_at': None,\n",
       "  'date_preference': None,\n",
       "  'dateofbirth': None,\n",
       "  'description': None,\n",
       "  'email': None,\n",
       "  'email_facebook_twitter_friend_joins': None,\n",
       "  'email_kom_lost': None,\n",
       "  'email_language': None,\n",
       "  'email_send_follower_notices': None,\n",
       "  'facebook_sharing_enabled': None,\n",
       "  'firstname': None,\n",
       "  'follower': None,\n",
       "  'follower_count': None,\n",
       "  'follower_request_count': None,\n",
       "  'friend': None,\n",
       "  'friend_count': None,\n",
       "  'ftp': None,\n",
       "  'global_privacy': None,\n",
       "  'instagram_username': None,\n",
       "  'lastname': None,\n",
       "  'max_heartrate': None,\n",
       "  'measurement_preference': None,\n",
       "  'membership': None,\n",
       "  'mutual_friend_count': None,\n",
       "  'offer_in_app_payment': None,\n",
       "  'owner': None,\n",
       "  'plan': None,\n",
       "  'premium': None,\n",
       "  'premium_expiration_date': None,\n",
       "  'profile': None,\n",
       "  'profile_medium': None,\n",
       "  'profile_original': None,\n",
       "  'receive_comment_emails': None,\n",
       "  'receive_follower_feed_emails': None,\n",
       "  'receive_kudos_emails': None,\n",
       "  'receive_newsletter': None,\n",
       "  'sample_race_distance': None,\n",
       "  'sample_race_time': None,\n",
       "  'sex': None,\n",
       "  'shoes': None,\n",
       "  'state': None,\n",
       "  'super_user': None,\n",
       "  'updated_at': None,\n",
       "  'username': None,\n",
       "  'weight': None},\n",
       " 'athlete_count': 5,\n",
       " 'average_cadence': 83.7,\n",
       " 'average_heartrate': 128.0,\n",
       " 'average_speed': 7.085,\n",
       " 'average_temp': 3,\n",
       " 'average_watts': 128.5,\n",
       " 'best_efforts': None,\n",
       " 'calories': None,\n",
       " 'comment_count': 0,\n",
       " 'commute': False,\n",
       " 'description': None,\n",
       " 'device_name': None,\n",
       " 'device_watts': True,\n",
       " 'distance': 54974.5,\n",
       " 'elapsed_time': '2:23:12',\n",
       " 'elev_high': 877.4,\n",
       " 'elev_low': 391.4,\n",
       " 'embed_token': None,\n",
       " 'end_latlng': '46.47,6.84',\n",
       " 'external_id': 'garmin_push_2419734697',\n",
       " 'flagged': False,\n",
       " 'from_accepted_tag': False,\n",
       " 'gear': None,\n",
       " 'gear_id': 'b3698803',\n",
       " 'guid': None,\n",
       " 'has_heartrate': True,\n",
       " 'has_kudoed': False,\n",
       " 'highlighted_kudosers': None,\n",
       " 'instagram_primary_photo': None,\n",
       " 'kilojoules': 997.4,\n",
       " 'kudos_count': 39,\n",
       " 'laps': None,\n",
       " 'location_city': None,\n",
       " 'location_country': 'Switzerland',\n",
       " 'location_state': None,\n",
       " 'manual': False,\n",
       " 'map': {'id': 'a1345205451',\n",
       "  'polyline': None,\n",
       "  'summary_polyline': '{hrzGqowh@f@dF`FvH}Xbh@gAxb@x@pW}GzI{AxGqCdrAsDnf@sC`Na@rQsDlM{D`ZtBle@cD|h@m`@b|AeFpL_KtKmFzMoIrKgU|r@yAff@bCbL|@`RpGrU}DlGu@rG|@I`@qHrD{C|Afj@}@zG}I~SpJkT|@qGoBiWcSuv@TwJfEyQZa\\\\hUyr@dIcKtGqOpJuJ~DmJ~`@e~AdDwh@uBme@nEs\\\\`DkKf@{RpCiM|Dih@h@{b@uBtFyLfdAyErLY|McCnM}M|Z{Phx@cFtGRjNuHfGuBtGmDvA{MbRqk@lNc]_F{E_^u@uPn@_WeBaFcv@qZyIjAcYsYeEiSqFeGoSwFwf@}EuLcFgIaZ^cN{@eDwg@kToYk\\\\wFgRy{@yx@}@eDfWyNbIP~|@sNzKHbInJfEuIrIeAxI~Gd]pHxE`ErM_IvYzBtT_ErFl@n`@qJ`LXtIkD~PcQz^wMzMwRxOcDtHtCpEnHrKnAxBhDrJtDhDxHv@lJ}@dl@sNlx@{MxVsHrh@rAbIhEt@bAvFvC|Ct@`QjEnMlN`C`AjCwGdQaa@r]cDhIqEnBd@zJd^rTy@nHnCzDaEfYzBFhHcTpDsEz@Ev@lIsBtJhG{CjA_E]cM`FyFpPww@xMqZdC}M\\\\}MlEqKbMaeA|B}HlA_j@hG}Uu@kc@bBwThDaJpDiTxHaPd@eD{AmB'},\n",
       " 'max_heartrate': 164,\n",
       " 'max_speed': 17.2,\n",
       " 'max_watts': 423,\n",
       " 'moving_time': '2:09:19',\n",
       " 'name': 'Lunch Ride',\n",
       " 'partner_brand_tag': None,\n",
       " 'partner_logo_url': None,\n",
       " 'photo_count': 0,\n",
       " 'photos': None,\n",
       " 'pr_count': 0,\n",
       " 'private': False,\n",
       " 'segment_efforts': None,\n",
       " 'segment_leaderboard_opt_out': None,\n",
       " 'splits_metric': None,\n",
       " 'splits_standard': None,\n",
       " 'start_date': '2018-01-07T10:32:54+00:00',\n",
       " 'start_date_local': '2018-01-07T11:32:54',\n",
       " 'start_latitude': 46.47,\n",
       " 'start_latlng': '46.47,6.84',\n",
       " 'start_longitude': 6.84,\n",
       " 'suffer_score': 99,\n",
       " 'timezone': 'Europe/Zurich',\n",
       " 'total_elevation_gain': 757.0,\n",
       " 'total_photo_count': 0,\n",
       " 'trainer': False,\n",
       " 'type': 'Ride',\n",
       " 'upload_id': '1453556214',\n",
       " 'utc_offset': 3600.0,\n",
       " 'weighted_average_watts': 148,\n",
       " 'workout_type': None}"
      ]
     },
     "execution_count": 5,
     "metadata": {},
     "output_type": "execute_result"
    }
   ],
   "source": [
    "#check a random activity to see its attributes\n",
    "sample = list(activities)[104]\n",
    "sample.to_dict()"
   ]
  },
  {
   "cell_type": "code",
   "execution_count": 6,
   "metadata": {
    "collapsed": true
   },
   "outputs": [],
   "source": [
    "#make a list of attributes that we are interested int\n",
    "my_cols =['average_speed',\n",
    "          'average_heartrate',\n",
    "          'average_watts', \n",
    "          'distance',\n",
    "          'elapsed_time',\n",
    "          'total_elevation_gain',\n",
    "          'type', \n",
    "           'start_date_local']"
   ]
  },
  {
   "cell_type": "code",
   "execution_count": 7,
   "metadata": {
    "collapsed": true
   },
   "outputs": [],
   "source": [
    "#save these attributes in a Python list\n",
    "data = []\n",
    "for activity in activities:\n",
    "    my_dict = activity.to_dict()\n",
    "    data.append([my_dict.get(x) for x in my_cols])\n",
    "    "
   ]
  },
  {
   "cell_type": "code",
   "execution_count": 8,
   "metadata": {},
   "outputs": [
    {
     "data": {
      "text/html": [
       "<div>\n",
       "<style scoped>\n",
       "    .dataframe tbody tr th:only-of-type {\n",
       "        vertical-align: middle;\n",
       "    }\n",
       "\n",
       "    .dataframe tbody tr th {\n",
       "        vertical-align: top;\n",
       "    }\n",
       "\n",
       "    .dataframe thead th {\n",
       "        text-align: right;\n",
       "    }\n",
       "</style>\n",
       "<table border=\"1\" class=\"dataframe\">\n",
       "  <thead>\n",
       "    <tr style=\"text-align: right;\">\n",
       "      <th></th>\n",
       "      <th>average_speed</th>\n",
       "      <th>average_heartrate</th>\n",
       "      <th>average_watts</th>\n",
       "      <th>distance</th>\n",
       "      <th>elapsed_time</th>\n",
       "      <th>total_elevation_gain</th>\n",
       "      <th>type</th>\n",
       "      <th>start_date_local</th>\n",
       "    </tr>\n",
       "  </thead>\n",
       "  <tbody>\n",
       "    <tr>\n",
       "      <th>0</th>\n",
       "      <td>5.763</td>\n",
       "      <td>124.6</td>\n",
       "      <td>111.3</td>\n",
       "      <td>83307.8</td>\n",
       "      <td>4:28:09</td>\n",
       "      <td>1671.0</td>\n",
       "      <td>Ride</td>\n",
       "      <td>2018-05-29T14:57:00</td>\n",
       "    </tr>\n",
       "    <tr>\n",
       "      <th>1</th>\n",
       "      <td>5.320</td>\n",
       "      <td>NaN</td>\n",
       "      <td>109.2</td>\n",
       "      <td>37699.9</td>\n",
       "      <td>2:05:00</td>\n",
       "      <td>736.0</td>\n",
       "      <td>Ride</td>\n",
       "      <td>2018-05-26T17:18:00</td>\n",
       "    </tr>\n",
       "    <tr>\n",
       "      <th>2</th>\n",
       "      <td>7.662</td>\n",
       "      <td>NaN</td>\n",
       "      <td>114.9</td>\n",
       "      <td>23981.1</td>\n",
       "      <td>0:53:25</td>\n",
       "      <td>122.0</td>\n",
       "      <td>Ride</td>\n",
       "      <td>2018-05-25T07:59:06</td>\n",
       "    </tr>\n",
       "    <tr>\n",
       "      <th>3</th>\n",
       "      <td>5.872</td>\n",
       "      <td>126.6</td>\n",
       "      <td>117.0</td>\n",
       "      <td>73131.0</td>\n",
       "      <td>3:41:53</td>\n",
       "      <td>1520.0</td>\n",
       "      <td>Ride</td>\n",
       "      <td>2018-05-24T16:58:17</td>\n",
       "    </tr>\n",
       "    <tr>\n",
       "      <th>4</th>\n",
       "      <td>7.607</td>\n",
       "      <td>126.9</td>\n",
       "      <td>120.3</td>\n",
       "      <td>23801.1</td>\n",
       "      <td>0:53:57</td>\n",
       "      <td>112.0</td>\n",
       "      <td>Ride</td>\n",
       "      <td>2018-05-24T08:15:31</td>\n",
       "    </tr>\n",
       "  </tbody>\n",
       "</table>\n",
       "</div>"
      ],
      "text/plain": [
       "   average_speed  average_heartrate  average_watts  distance elapsed_time  \\\n",
       "0          5.763              124.6          111.3   83307.8      4:28:09   \n",
       "1          5.320                NaN          109.2   37699.9      2:05:00   \n",
       "2          7.662                NaN          114.9   23981.1      0:53:25   \n",
       "3          5.872              126.6          117.0   73131.0      3:41:53   \n",
       "4          7.607              126.9          120.3   23801.1      0:53:57   \n",
       "\n",
       "   total_elevation_gain  type     start_date_local  \n",
       "0                1671.0  Ride  2018-05-29T14:57:00  \n",
       "1                 736.0  Ride  2018-05-26T17:18:00  \n",
       "2                 122.0  Ride  2018-05-25T07:59:06  \n",
       "3                1520.0  Ride  2018-05-24T16:58:17  \n",
       "4                 112.0  Ride  2018-05-24T08:15:31  "
      ]
     },
     "execution_count": 8,
     "metadata": {},
     "output_type": "execute_result"
    }
   ],
   "source": [
    "#convert to a pandas DataFrame\n",
    "df = pd.DataFrame(data, columns=my_cols)\n",
    "# take a look at the top entries\n",
    "df.head()"
   ]
  },
  {
   "cell_type": "code",
   "execution_count": null,
   "metadata": {
    "collapsed": true
   },
   "outputs": [],
   "source": [
    "#save to a csv file\n",
    "df.to_csv('my_strava_activities.csv')"
   ]
  }
 ],
 "metadata": {
  "kernelspec": {
   "display_name": "Python 3",
   "language": "python",
   "name": "python3"
  },
  "language_info": {
   "codemirror_mode": {
    "name": "ipython",
    "version": 3
   },
   "file_extension": ".py",
   "mimetype": "text/x-python",
   "name": "python",
   "nbconvert_exporter": "python",
   "pygments_lexer": "ipython3",
   "version": "3.6.2"
  }
 },
 "nbformat": 4,
 "nbformat_minor": 2
}
