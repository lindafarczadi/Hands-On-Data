{
 "cells": [
  {
   "cell_type": "markdown",
   "metadata": {},
   "source": [
    "# Cleaning the data"
   ]
  },
  {
   "cell_type": "code",
   "execution_count": 1,
   "metadata": {
    "collapsed": true
   },
   "outputs": [],
   "source": [
    "import pandas as pd\n",
    "df = pd.read_csv('my_strava_activities.csv', index_col=0)"
   ]
  },
  {
   "cell_type": "markdown",
   "metadata": {},
   "source": [
    "### Choosing which data to use\n",
    "\n",
    "One of the first decisions we must make is about which data we plan to use. In general we should select only those values or variables for which we have a sufficent number of entries. Let's look once again at the type of activities"
   ]
  },
  {
   "cell_type": "code",
   "execution_count": 2,
   "metadata": {},
   "outputs": [
    {
     "data": {
      "text/plain": [
       "Run            585\n",
       "Ride           346\n",
       "Swim            30\n",
       "VirtualRide     15\n",
       "Name: type, dtype: int64"
      ]
     },
     "execution_count": 2,
     "metadata": {},
     "output_type": "execute_result"
    }
   ],
   "source": [
    "df['type'].value_counts()"
   ]
  },
  {
   "cell_type": "markdown",
   "metadata": {},
   "source": [
    "For our analysis we will choose to focuse only on activities which are runs or rides."
   ]
  },
  {
   "cell_type": "code",
   "execution_count": 3,
   "metadata": {
    "collapsed": true
   },
   "outputs": [],
   "source": [
    "df = df[df['type'].isin(['Ride','Run'])]"
   ]
  },
  {
   "cell_type": "markdown",
   "metadata": {},
   "source": [
    "### Dealing with missing values\n",
    "\n",
    "Our data has some missing values"
   ]
  },
  {
   "cell_type": "code",
   "execution_count": 4,
   "metadata": {},
   "outputs": [
    {
     "name": "stdout",
     "output_type": "stream",
     "text": [
      "<class 'pandas.core.frame.DataFrame'>\n",
      "Int64Index: 931 entries, 0 to 975\n",
      "Data columns (total 9 columns):\n",
      "average_speed           931 non-null float64\n",
      "average_heartrate       410 non-null float64\n",
      "average_watts           337 non-null float64\n",
      "distance                931 non-null float64\n",
      "elapsed_time            931 non-null object\n",
      "total_elevation_gain    931 non-null float64\n",
      "type                    931 non-null object\n",
      "commute                 931 non-null bool\n",
      "start_date_local        931 non-null object\n",
      "dtypes: bool(1), float64(5), object(3)\n",
      "memory usage: 66.4+ KB\n"
     ]
    }
   ],
   "source": [
    "df.info()"
   ]
  },
  {
   "cell_type": "markdown",
   "metadata": {},
   "source": [
    "Since `average_watts` is a cycling specific measure let's fill in the values for runs as `0`. "
   ]
  },
  {
   "cell_type": "code",
   "execution_count": 5,
   "metadata": {
    "collapsed": true
   },
   "outputs": [],
   "source": [
    "df.loc[df['type']=='Run', 'average_watts'] = 0"
   ]
  },
  {
   "cell_type": "code",
   "execution_count": 6,
   "metadata": {},
   "outputs": [
    {
     "name": "stdout",
     "output_type": "stream",
     "text": [
      "<class 'pandas.core.frame.DataFrame'>\n",
      "Int64Index: 931 entries, 0 to 975\n",
      "Data columns (total 9 columns):\n",
      "average_speed           931 non-null float64\n",
      "average_heartrate       410 non-null float64\n",
      "average_watts           922 non-null float64\n",
      "distance                931 non-null float64\n",
      "elapsed_time            931 non-null object\n",
      "total_elevation_gain    931 non-null float64\n",
      "type                    931 non-null object\n",
      "commute                 931 non-null bool\n",
      "start_date_local        931 non-null object\n",
      "dtypes: bool(1), float64(5), object(3)\n",
      "memory usage: 66.4+ KB\n"
     ]
    }
   ],
   "source": [
    "df.info()"
   ]
  },
  {
   "cell_type": "markdown",
   "metadata": {},
   "source": [
    "For the remainder missing values, we can drop the observations corresponding to them"
   ]
  },
  {
   "cell_type": "code",
   "execution_count": 7,
   "metadata": {},
   "outputs": [
    {
     "name": "stdout",
     "output_type": "stream",
     "text": [
      "<class 'pandas.core.frame.DataFrame'>\n",
      "Int64Index: 922 entries, 0 to 975\n",
      "Data columns (total 8 columns):\n",
      "average_speed           922 non-null float64\n",
      "average_watts           922 non-null float64\n",
      "distance                922 non-null float64\n",
      "elapsed_time            922 non-null object\n",
      "total_elevation_gain    922 non-null float64\n",
      "type                    922 non-null object\n",
      "commute                 922 non-null bool\n",
      "start_date_local        922 non-null object\n",
      "dtypes: bool(1), float64(4), object(3)\n",
      "memory usage: 58.5+ KB\n"
     ]
    }
   ],
   "source": [
    "df.drop('average_heartrate', axis=1, inplace=True)\n",
    "df.dropna(inplace=True)\n",
    "df.info()"
   ]
  },
  {
   "cell_type": "markdown",
   "metadata": {},
   "source": [
    "### Transforming distance to kilometers\n",
    "\n",
    "The given distance values are in meters. Let's transform them to kilometers and round to 2 decimal digits"
   ]
  },
  {
   "cell_type": "code",
   "execution_count": 8,
   "metadata": {},
   "outputs": [
    {
     "data": {
      "text/plain": [
       "0     51.69\n",
       "1    133.13\n",
       "2    108.42\n",
       "3     59.02\n",
       "4     23.83\n",
       "Name: distance, dtype: float64"
      ]
     },
     "execution_count": 8,
     "metadata": {},
     "output_type": "execute_result"
    }
   ],
   "source": [
    "df['distance'] = df['distance']/1000\n",
    "df['distance'] = df['distance'].round(2)\n",
    "df['distance'].head()"
   ]
  },
  {
   "cell_type": "markdown",
   "metadata": {},
   "source": [
    "### Transform average speed to km/h\n",
    "\n",
    "The given values are in meters/second. Let's transform them to to kilometers/hour and round to 2 decimal places. "
   ]
  },
  {
   "cell_type": "code",
   "execution_count": 9,
   "metadata": {},
   "outputs": [
    {
     "data": {
      "text/plain": [
       "0    19.67\n",
       "1    25.01\n",
       "2    24.67\n",
       "3    24.32\n",
       "4    26.83\n",
       "Name: average_speed, dtype: float64"
      ]
     },
     "execution_count": 9,
     "metadata": {},
     "output_type": "execute_result"
    }
   ],
   "source": [
    "df['average_speed'] = df['average_speed'] * 18/5\n",
    "df['average_speed']  = df['average_speed'].round(2)\n",
    "df['average_speed'].head()"
   ]
  },
  {
   "cell_type": "markdown",
   "metadata": {},
   "source": [
    "### Transform elapsed time to minutes\n",
    "\n",
    "This seems a bit more complicated since the values are strings. Let's start by getting an idea of the type of values we have"
   ]
  },
  {
   "cell_type": "code",
   "execution_count": 10,
   "metadata": {},
   "outputs": [
    {
     "data": {
      "text/plain": [
       "7     917\n",
       "8       4\n",
       "16      1\n",
       "Name: elapsed_time, dtype: int64"
      ]
     },
     "execution_count": 10,
     "metadata": {},
     "output_type": "execute_result"
    }
   ],
   "source": [
    "df['elapsed_time'].str.len().value_counts()"
   ]
  },
  {
   "cell_type": "markdown",
   "metadata": {},
   "source": [
    "Let's see the format for each of these lengths"
   ]
  },
  {
   "cell_type": "code",
   "execution_count": 11,
   "metadata": {},
   "outputs": [
    {
     "data": {
      "text/plain": [
       "0    3:23:50\n",
       "1    6:17:54\n",
       "2    4:39:40\n",
       "3    2:38:43\n",
       "4    0:55:01\n",
       "Name: elapsed_time, dtype: object"
      ]
     },
     "execution_count": 11,
     "metadata": {},
     "output_type": "execute_result"
    }
   ],
   "source": [
    "df[df['elapsed_time'].str.len() == 7]['elapsed_time'].head()"
   ]
  },
  {
   "cell_type": "code",
   "execution_count": 12,
   "metadata": {},
   "outputs": [
    {
     "data": {
      "text/plain": [
       "33     18:00:55\n",
       "256    10:07:16\n",
       "279    10:01:59\n",
       "471    10:35:32\n",
       "Name: elapsed_time, dtype: object"
      ]
     },
     "execution_count": 12,
     "metadata": {},
     "output_type": "execute_result"
    }
   ],
   "source": [
    "df[df['elapsed_time'].str.len() == 8]['elapsed_time']"
   ]
  },
  {
   "cell_type": "code",
   "execution_count": 13,
   "metadata": {},
   "outputs": [
    {
     "data": {
      "text/plain": [
       "583    3 days, 23:05:23\n",
       "Name: elapsed_time, dtype: object"
      ]
     },
     "execution_count": 13,
     "metadata": {},
     "output_type": "execute_result"
    }
   ],
   "source": [
    "df[df['elapsed_time'].str.len() == 16]['elapsed_time']"
   ]
  },
  {
   "cell_type": "markdown",
   "metadata": {},
   "source": [
    "It seems that we have three types of possible formats:\n",
    "* h:mm:ss\n",
    "* hh:mm:ss\n",
    "* d days, hh:mm:ss\n",
    "\n",
    "Let's try to convert all of these to total number of minutes. We will write a function that given a string:\n",
    "\n",
    "1. Check if the string is of the type `d days, hh:mm:ss`\n",
    "\n",
    "2. If yes, extract the integer `d` and return `hh:mm:ss`, else pass.\n",
    "\n",
    "3. Extract the integers `hh`, `mm` and `ss`\n",
    "\n",
    "4. Calculate the total number of minutes"
   ]
  },
  {
   "cell_type": "code",
   "execution_count": 14,
   "metadata": {
    "collapsed": true
   },
   "outputs": [],
   "source": [
    "def get_minutes(time_str):\n",
    "    if ',' in time_str:\n",
    "        d = time_str[0]\n",
    "        time_str = time_str.split(',')[1]\n",
    "    else:\n",
    "        d = 0\n",
    "    h, m, s = time_str.split(':') \n",
    "    total_min = (int(d)*24+int(h))*60+int(m)+int(s)/60\n",
    "    return int(total_min)"
   ]
  },
  {
   "cell_type": "markdown",
   "metadata": {},
   "source": [
    "## Aside: the methods `apply()` and `map()`\n",
    "\n",
    "So far we have seen that we can perform transformation on columns of a DataFrame by taking advantage of vectorized operations. However, sometimes the transformations that we want to perform are more complicated than vetorized operations allow. \n",
    "\n",
    "These scenarios usually fall under one of the following two cases:\n",
    "\n",
    "* we have function and we want to apply this function to each individual entry of the column \n",
    "\n",
    "* we have a dictionary that maps current values of the column to new values\n",
    "\n",
    "Luckily, the pandas Series object has specific methods for each of these two cases. If we have a function we use the `Series.apply()` method\n",
    "\n",
    "<img src=\"pandas.Series.apply.png\" alt=\"drawing\" style=\"width: 700px;\"/>\n",
    "\n",
    "And if we have a dictionary we use the `Series.map()` method\n",
    "\n",
    "<img src=\"pandas.Series.map.png\" alt=\"drawing\" style=\"width: 700px;\"/>\n",
    "\n",
    "We are in the first case here so we can write"
   ]
  },
  {
   "cell_type": "code",
   "execution_count": null,
   "metadata": {
    "collapsed": true
   },
   "outputs": [],
   "source": []
  },
  {
   "cell_type": "code",
   "execution_count": 15,
   "metadata": {
    "collapsed": true
   },
   "outputs": [],
   "source": [
    "df['time_min'] = df['elapsed_time'].apply(get_minutes)"
   ]
  },
  {
   "cell_type": "markdown",
   "metadata": {},
   "source": [
    "Let's get rid of the original column"
   ]
  },
  {
   "cell_type": "code",
   "execution_count": 16,
   "metadata": {},
   "outputs": [
    {
     "data": {
      "text/html": [
       "<div>\n",
       "<style scoped>\n",
       "    .dataframe tbody tr th:only-of-type {\n",
       "        vertical-align: middle;\n",
       "    }\n",
       "\n",
       "    .dataframe tbody tr th {\n",
       "        vertical-align: top;\n",
       "    }\n",
       "\n",
       "    .dataframe thead th {\n",
       "        text-align: right;\n",
       "    }\n",
       "</style>\n",
       "<table border=\"1\" class=\"dataframe\">\n",
       "  <thead>\n",
       "    <tr style=\"text-align: right;\">\n",
       "      <th></th>\n",
       "      <th>average_speed</th>\n",
       "      <th>average_watts</th>\n",
       "      <th>distance</th>\n",
       "      <th>total_elevation_gain</th>\n",
       "      <th>type</th>\n",
       "      <th>commute</th>\n",
       "      <th>start_date_local</th>\n",
       "      <th>time_min</th>\n",
       "    </tr>\n",
       "  </thead>\n",
       "  <tbody>\n",
       "    <tr>\n",
       "      <th>0</th>\n",
       "      <td>19.67</td>\n",
       "      <td>131.7</td>\n",
       "      <td>51.69</td>\n",
       "      <td>1414.0</td>\n",
       "      <td>Ride</td>\n",
       "      <td>False</td>\n",
       "      <td>2018-05-21T09:59:24</td>\n",
       "      <td>203</td>\n",
       "    </tr>\n",
       "    <tr>\n",
       "      <th>1</th>\n",
       "      <td>25.01</td>\n",
       "      <td>127.8</td>\n",
       "      <td>133.13</td>\n",
       "      <td>2280.0</td>\n",
       "      <td>Ride</td>\n",
       "      <td>False</td>\n",
       "      <td>2018-05-20T08:46:44</td>\n",
       "      <td>377</td>\n",
       "    </tr>\n",
       "    <tr>\n",
       "      <th>2</th>\n",
       "      <td>24.67</td>\n",
       "      <td>136.4</td>\n",
       "      <td>108.42</td>\n",
       "      <td>1950.0</td>\n",
       "      <td>Ride</td>\n",
       "      <td>False</td>\n",
       "      <td>2018-05-19T08:12:35</td>\n",
       "      <td>279</td>\n",
       "    </tr>\n",
       "    <tr>\n",
       "      <th>3</th>\n",
       "      <td>24.32</td>\n",
       "      <td>135.3</td>\n",
       "      <td>59.02</td>\n",
       "      <td>937.0</td>\n",
       "      <td>Ride</td>\n",
       "      <td>False</td>\n",
       "      <td>2018-05-17T17:50:55</td>\n",
       "      <td>158</td>\n",
       "    </tr>\n",
       "    <tr>\n",
       "      <th>4</th>\n",
       "      <td>26.83</td>\n",
       "      <td>117.7</td>\n",
       "      <td>23.83</td>\n",
       "      <td>122.0</td>\n",
       "      <td>Ride</td>\n",
       "      <td>False</td>\n",
       "      <td>2018-05-17T07:15:06</td>\n",
       "      <td>55</td>\n",
       "    </tr>\n",
       "  </tbody>\n",
       "</table>\n",
       "</div>"
      ],
      "text/plain": [
       "   average_speed  average_watts  distance  total_elevation_gain  type  \\\n",
       "0          19.67          131.7     51.69                1414.0  Ride   \n",
       "1          25.01          127.8    133.13                2280.0  Ride   \n",
       "2          24.67          136.4    108.42                1950.0  Ride   \n",
       "3          24.32          135.3     59.02                 937.0  Ride   \n",
       "4          26.83          117.7     23.83                 122.0  Ride   \n",
       "\n",
       "   commute     start_date_local  time_min  \n",
       "0    False  2018-05-21T09:59:24       203  \n",
       "1    False  2018-05-20T08:46:44       377  \n",
       "2    False  2018-05-19T08:12:35       279  \n",
       "3    False  2018-05-17T17:50:55       158  \n",
       "4    False  2018-05-17T07:15:06        55  "
      ]
     },
     "execution_count": 16,
     "metadata": {},
     "output_type": "execute_result"
    }
   ],
   "source": [
    "df.drop('elapsed_time', axis=1, inplace=True)\n",
    "df.head()"
   ]
  },
  {
   "cell_type": "markdown",
   "metadata": {},
   "source": [
    "## Dealing with time data\n",
    "\n",
    "Pandas was first invented for analyzing financial time series, so understandably it has quite the machinery built in to deal manipulating dates, aggreggrating over different time periods and much more. \n",
    "\n",
    "Pandas has a single object to encapsulate date and time called a `Timestamp`.\n",
    "\n",
    "<img src=\"pandas.Timestamp.png\" alt=\"drawing\" style=\"width: 700px;\"/>\n",
    "\n",
    "The constructor is extremely flexible and handles a wide range of inputs. Let's see if we can pass the strings from our column `start_date_local` directly to the `pandas.Timestamp()` constructor"
   ]
  },
  {
   "cell_type": "code",
   "execution_count": 17,
   "metadata": {},
   "outputs": [
    {
     "data": {
      "text/plain": [
       "'2018-05-21T09:59:24'"
      ]
     },
     "execution_count": 17,
     "metadata": {},
     "output_type": "execute_result"
    }
   ],
   "source": [
    "df['start_date_local'][0]"
   ]
  },
  {
   "cell_type": "code",
   "execution_count": 18,
   "metadata": {},
   "outputs": [
    {
     "data": {
      "text/plain": [
       "Timestamp('2018-05-21 09:59:24')"
      ]
     },
     "execution_count": 18,
     "metadata": {},
     "output_type": "execute_result"
    }
   ],
   "source": [
    "pd.Timestamp(df['start_date_local'][0])"
   ]
  },
  {
   "cell_type": "markdown",
   "metadata": {},
   "source": [
    "However if we try to pass the entire column to the constructor we will get an error. Instead we can use the `pandas.to_datetime()` function that is capable of converting an entire Series into `Timestamp` objects\n",
    "\n",
    "<img src=\"pandas.to_datetime.png\" alt=\"drawing\" style=\"width: 700px;\"/>\n",
    "\n",
    "Let's try to convert our column `start_date_local`"
   ]
  },
  {
   "cell_type": "code",
   "execution_count": 19,
   "metadata": {
    "collapsed": true
   },
   "outputs": [],
   "source": [
    "#convert start date to datetime \n",
    "df['start_date_local'] = pd.to_datetime(df['start_date_local'])"
   ]
  },
  {
   "cell_type": "code",
   "execution_count": 20,
   "metadata": {},
   "outputs": [
    {
     "data": {
      "text/plain": [
       "Timestamp('2018-05-21 09:59:24')"
      ]
     },
     "execution_count": 20,
     "metadata": {},
     "output_type": "execute_result"
    }
   ],
   "source": [
    "df['start_date_local'][0]"
   ]
  },
  {
   "cell_type": "markdown",
   "metadata": {},
   "source": [
    "Let's now set this column as our new index"
   ]
  },
  {
   "cell_type": "code",
   "execution_count": 21,
   "metadata": {},
   "outputs": [
    {
     "data": {
      "text/html": [
       "<div>\n",
       "<style scoped>\n",
       "    .dataframe tbody tr th:only-of-type {\n",
       "        vertical-align: middle;\n",
       "    }\n",
       "\n",
       "    .dataframe tbody tr th {\n",
       "        vertical-align: top;\n",
       "    }\n",
       "\n",
       "    .dataframe thead th {\n",
       "        text-align: right;\n",
       "    }\n",
       "</style>\n",
       "<table border=\"1\" class=\"dataframe\">\n",
       "  <thead>\n",
       "    <tr style=\"text-align: right;\">\n",
       "      <th></th>\n",
       "      <th>average_speed</th>\n",
       "      <th>average_watts</th>\n",
       "      <th>distance</th>\n",
       "      <th>total_elevation_gain</th>\n",
       "      <th>type</th>\n",
       "      <th>commute</th>\n",
       "      <th>time_min</th>\n",
       "    </tr>\n",
       "    <tr>\n",
       "      <th>start_date_local</th>\n",
       "      <th></th>\n",
       "      <th></th>\n",
       "      <th></th>\n",
       "      <th></th>\n",
       "      <th></th>\n",
       "      <th></th>\n",
       "      <th></th>\n",
       "    </tr>\n",
       "  </thead>\n",
       "  <tbody>\n",
       "    <tr>\n",
       "      <th>2018-05-21 09:59:24</th>\n",
       "      <td>19.67</td>\n",
       "      <td>131.7</td>\n",
       "      <td>51.69</td>\n",
       "      <td>1414.0</td>\n",
       "      <td>Ride</td>\n",
       "      <td>False</td>\n",
       "      <td>203</td>\n",
       "    </tr>\n",
       "    <tr>\n",
       "      <th>2018-05-20 08:46:44</th>\n",
       "      <td>25.01</td>\n",
       "      <td>127.8</td>\n",
       "      <td>133.13</td>\n",
       "      <td>2280.0</td>\n",
       "      <td>Ride</td>\n",
       "      <td>False</td>\n",
       "      <td>377</td>\n",
       "    </tr>\n",
       "    <tr>\n",
       "      <th>2018-05-19 08:12:35</th>\n",
       "      <td>24.67</td>\n",
       "      <td>136.4</td>\n",
       "      <td>108.42</td>\n",
       "      <td>1950.0</td>\n",
       "      <td>Ride</td>\n",
       "      <td>False</td>\n",
       "      <td>279</td>\n",
       "    </tr>\n",
       "    <tr>\n",
       "      <th>2018-05-17 17:50:55</th>\n",
       "      <td>24.32</td>\n",
       "      <td>135.3</td>\n",
       "      <td>59.02</td>\n",
       "      <td>937.0</td>\n",
       "      <td>Ride</td>\n",
       "      <td>False</td>\n",
       "      <td>158</td>\n",
       "    </tr>\n",
       "    <tr>\n",
       "      <th>2018-05-17 07:15:06</th>\n",
       "      <td>26.83</td>\n",
       "      <td>117.7</td>\n",
       "      <td>23.83</td>\n",
       "      <td>122.0</td>\n",
       "      <td>Ride</td>\n",
       "      <td>False</td>\n",
       "      <td>55</td>\n",
       "    </tr>\n",
       "  </tbody>\n",
       "</table>\n",
       "</div>"
      ],
      "text/plain": [
       "                     average_speed  average_watts  distance  \\\n",
       "start_date_local                                              \n",
       "2018-05-21 09:59:24          19.67          131.7     51.69   \n",
       "2018-05-20 08:46:44          25.01          127.8    133.13   \n",
       "2018-05-19 08:12:35          24.67          136.4    108.42   \n",
       "2018-05-17 17:50:55          24.32          135.3     59.02   \n",
       "2018-05-17 07:15:06          26.83          117.7     23.83   \n",
       "\n",
       "                     total_elevation_gain  type  commute  time_min  \n",
       "start_date_local                                                    \n",
       "2018-05-21 09:59:24                1414.0  Ride    False       203  \n",
       "2018-05-20 08:46:44                2280.0  Ride    False       377  \n",
       "2018-05-19 08:12:35                1950.0  Ride    False       279  \n",
       "2018-05-17 17:50:55                 937.0  Ride    False       158  \n",
       "2018-05-17 07:15:06                 122.0  Ride    False        55  "
      ]
     },
     "execution_count": 21,
     "metadata": {},
     "output_type": "execute_result"
    }
   ],
   "source": [
    "df.set_index('start_date_local', inplace=True)\n",
    "df.head()"
   ]
  },
  {
   "cell_type": "code",
   "execution_count": 22,
   "metadata": {},
   "outputs": [
    {
     "data": {
      "text/plain": [
       "DatetimeIndex(['2018-05-21 09:59:24', '2018-05-20 08:46:44',\n",
       "               '2018-05-19 08:12:35', '2018-05-17 17:50:55',\n",
       "               '2018-05-17 07:15:06', '2018-05-16 18:09:43',\n",
       "               '2018-05-15 19:49:01', '2018-05-14 19:38:03',\n",
       "               '2018-05-12 09:13:34', '2018-05-05 09:47:42',\n",
       "               ...\n",
       "               '2013-10-05 09:36:57', '2013-09-28 16:34:35',\n",
       "               '2013-08-04 20:15:43', '2013-07-12 20:46:31',\n",
       "               '2013-07-12 20:31:32', '2013-07-05 18:55:07',\n",
       "               '2013-06-23 12:43:01', '2013-06-16 08:59:56',\n",
       "               '2013-06-14 13:40:09', '2013-06-01 09:02:40'],\n",
       "              dtype='datetime64[ns]', name='start_date_local', length=922, freq=None)"
      ]
     },
     "execution_count": 22,
     "metadata": {},
     "output_type": "execute_result"
    }
   ],
   "source": [
    "df.index"
   ]
  },
  {
   "cell_type": "markdown",
   "metadata": {},
   "source": [
    "The nice thing about using the `Timestamp` objects is that they have a large number attributes and methods. For example"
   ]
  },
  {
   "cell_type": "code",
   "execution_count": 23,
   "metadata": {},
   "outputs": [
    {
     "data": {
      "text/plain": [
       "Int64Index([2018, 2018, 2018, 2018, 2018, 2018, 2018, 2018, 2018, 2018,\n",
       "            ...\n",
       "            2013, 2013, 2013, 2013, 2013, 2013, 2013, 2013, 2013, 2013],\n",
       "           dtype='int64', name='start_date_local', length=922)"
      ]
     },
     "execution_count": 23,
     "metadata": {},
     "output_type": "execute_result"
    }
   ],
   "source": [
    "df.index.year"
   ]
  },
  {
   "cell_type": "code",
   "execution_count": 24,
   "metadata": {},
   "outputs": [
    {
     "data": {
      "text/plain": [
       "Int64Index([ 5,  5,  5,  5,  5,  5,  5,  5,  5,  5,\n",
       "            ...\n",
       "            10,  9,  8,  7,  7,  7,  6,  6,  6,  6],\n",
       "           dtype='int64', name='start_date_local', length=922)"
      ]
     },
     "execution_count": 24,
     "metadata": {},
     "output_type": "execute_result"
    }
   ],
   "source": [
    "df.index.month"
   ]
  },
  {
   "cell_type": "code",
   "execution_count": 25,
   "metadata": {},
   "outputs": [
    {
     "data": {
      "text/plain": [
       "Int64Index([0, 6, 5, 3, 3, 2, 1, 0, 5, 5,\n",
       "            ...\n",
       "            5, 5, 6, 4, 4, 4, 6, 6, 4, 5],\n",
       "           dtype='int64', name='start_date_local', length=922)"
      ]
     },
     "execution_count": 25,
     "metadata": {},
     "output_type": "execute_result"
    }
   ],
   "source": [
    "df.index.dayofweek"
   ]
  },
  {
   "cell_type": "markdown",
   "metadata": {},
   "source": [
    "We can also round `Timestamps` to our desired level of accuracy"
   ]
  },
  {
   "cell_type": "code",
   "execution_count": 26,
   "metadata": {
    "collapsed": true
   },
   "outputs": [],
   "source": [
    "df.index = df.index.round('D', inplace=True)\n",
    "df.index.rename('date', inplace=True)"
   ]
  },
  {
   "cell_type": "code",
   "execution_count": 27,
   "metadata": {},
   "outputs": [
    {
     "data": {
      "text/html": [
       "<div>\n",
       "<style scoped>\n",
       "    .dataframe tbody tr th:only-of-type {\n",
       "        vertical-align: middle;\n",
       "    }\n",
       "\n",
       "    .dataframe tbody tr th {\n",
       "        vertical-align: top;\n",
       "    }\n",
       "\n",
       "    .dataframe thead th {\n",
       "        text-align: right;\n",
       "    }\n",
       "</style>\n",
       "<table border=\"1\" class=\"dataframe\">\n",
       "  <thead>\n",
       "    <tr style=\"text-align: right;\">\n",
       "      <th></th>\n",
       "      <th>average_speed</th>\n",
       "      <th>average_watts</th>\n",
       "      <th>distance</th>\n",
       "      <th>total_elevation_gain</th>\n",
       "      <th>type</th>\n",
       "      <th>commute</th>\n",
       "      <th>time_min</th>\n",
       "    </tr>\n",
       "    <tr>\n",
       "      <th>date</th>\n",
       "      <th></th>\n",
       "      <th></th>\n",
       "      <th></th>\n",
       "      <th></th>\n",
       "      <th></th>\n",
       "      <th></th>\n",
       "      <th></th>\n",
       "    </tr>\n",
       "  </thead>\n",
       "  <tbody>\n",
       "    <tr>\n",
       "      <th>2018-05-21</th>\n",
       "      <td>19.67</td>\n",
       "      <td>131.7</td>\n",
       "      <td>51.69</td>\n",
       "      <td>1414.0</td>\n",
       "      <td>Ride</td>\n",
       "      <td>False</td>\n",
       "      <td>203</td>\n",
       "    </tr>\n",
       "    <tr>\n",
       "      <th>2018-05-20</th>\n",
       "      <td>25.01</td>\n",
       "      <td>127.8</td>\n",
       "      <td>133.13</td>\n",
       "      <td>2280.0</td>\n",
       "      <td>Ride</td>\n",
       "      <td>False</td>\n",
       "      <td>377</td>\n",
       "    </tr>\n",
       "    <tr>\n",
       "      <th>2018-05-19</th>\n",
       "      <td>24.67</td>\n",
       "      <td>136.4</td>\n",
       "      <td>108.42</td>\n",
       "      <td>1950.0</td>\n",
       "      <td>Ride</td>\n",
       "      <td>False</td>\n",
       "      <td>279</td>\n",
       "    </tr>\n",
       "    <tr>\n",
       "      <th>2018-05-18</th>\n",
       "      <td>24.32</td>\n",
       "      <td>135.3</td>\n",
       "      <td>59.02</td>\n",
       "      <td>937.0</td>\n",
       "      <td>Ride</td>\n",
       "      <td>False</td>\n",
       "      <td>158</td>\n",
       "    </tr>\n",
       "    <tr>\n",
       "      <th>2018-05-17</th>\n",
       "      <td>26.83</td>\n",
       "      <td>117.7</td>\n",
       "      <td>23.83</td>\n",
       "      <td>122.0</td>\n",
       "      <td>Ride</td>\n",
       "      <td>False</td>\n",
       "      <td>55</td>\n",
       "    </tr>\n",
       "  </tbody>\n",
       "</table>\n",
       "</div>"
      ],
      "text/plain": [
       "            average_speed  average_watts  distance  total_elevation_gain  \\\n",
       "date                                                                       \n",
       "2018-05-21          19.67          131.7     51.69                1414.0   \n",
       "2018-05-20          25.01          127.8    133.13                2280.0   \n",
       "2018-05-19          24.67          136.4    108.42                1950.0   \n",
       "2018-05-18          24.32          135.3     59.02                 937.0   \n",
       "2018-05-17          26.83          117.7     23.83                 122.0   \n",
       "\n",
       "            type  commute  time_min  \n",
       "date                                 \n",
       "2018-05-21  Ride    False       203  \n",
       "2018-05-20  Ride    False       377  \n",
       "2018-05-19  Ride    False       279  \n",
       "2018-05-18  Ride    False       158  \n",
       "2018-05-17  Ride    False        55  "
      ]
     },
     "execution_count": 27,
     "metadata": {},
     "output_type": "execute_result"
    }
   ],
   "source": [
    "df.head()"
   ]
  },
  {
   "cell_type": "markdown",
   "metadata": {},
   "source": [
    "## Aside: the advantages of a DatetimeIndex\n",
    "\n",
    "One of the advantages of changing our index to the `date` column is that now we can take advantage of more flexible slicing options. For example if we wanted to bring up the activities from this last month we can simply type"
   ]
  },
  {
   "cell_type": "code",
   "execution_count": 28,
   "metadata": {},
   "outputs": [
    {
     "data": {
      "text/html": [
       "<div>\n",
       "<style scoped>\n",
       "    .dataframe tbody tr th:only-of-type {\n",
       "        vertical-align: middle;\n",
       "    }\n",
       "\n",
       "    .dataframe tbody tr th {\n",
       "        vertical-align: top;\n",
       "    }\n",
       "\n",
       "    .dataframe thead th {\n",
       "        text-align: right;\n",
       "    }\n",
       "</style>\n",
       "<table border=\"1\" class=\"dataframe\">\n",
       "  <thead>\n",
       "    <tr style=\"text-align: right;\">\n",
       "      <th></th>\n",
       "      <th>average_speed</th>\n",
       "      <th>average_watts</th>\n",
       "      <th>distance</th>\n",
       "      <th>total_elevation_gain</th>\n",
       "      <th>type</th>\n",
       "      <th>commute</th>\n",
       "      <th>time_min</th>\n",
       "    </tr>\n",
       "    <tr>\n",
       "      <th>date</th>\n",
       "      <th></th>\n",
       "      <th></th>\n",
       "      <th></th>\n",
       "      <th></th>\n",
       "      <th></th>\n",
       "      <th></th>\n",
       "      <th></th>\n",
       "    </tr>\n",
       "  </thead>\n",
       "  <tbody>\n",
       "    <tr>\n",
       "      <th>2018-05-21</th>\n",
       "      <td>19.67</td>\n",
       "      <td>131.7</td>\n",
       "      <td>51.69</td>\n",
       "      <td>1414.0</td>\n",
       "      <td>Ride</td>\n",
       "      <td>False</td>\n",
       "      <td>203</td>\n",
       "    </tr>\n",
       "    <tr>\n",
       "      <th>2018-05-20</th>\n",
       "      <td>25.01</td>\n",
       "      <td>127.8</td>\n",
       "      <td>133.13</td>\n",
       "      <td>2280.0</td>\n",
       "      <td>Ride</td>\n",
       "      <td>False</td>\n",
       "      <td>377</td>\n",
       "    </tr>\n",
       "    <tr>\n",
       "      <th>2018-05-19</th>\n",
       "      <td>24.67</td>\n",
       "      <td>136.4</td>\n",
       "      <td>108.42</td>\n",
       "      <td>1950.0</td>\n",
       "      <td>Ride</td>\n",
       "      <td>False</td>\n",
       "      <td>279</td>\n",
       "    </tr>\n",
       "    <tr>\n",
       "      <th>2018-05-18</th>\n",
       "      <td>24.32</td>\n",
       "      <td>135.3</td>\n",
       "      <td>59.02</td>\n",
       "      <td>937.0</td>\n",
       "      <td>Ride</td>\n",
       "      <td>False</td>\n",
       "      <td>158</td>\n",
       "    </tr>\n",
       "    <tr>\n",
       "      <th>2018-05-17</th>\n",
       "      <td>26.83</td>\n",
       "      <td>117.7</td>\n",
       "      <td>23.83</td>\n",
       "      <td>122.0</td>\n",
       "      <td>Ride</td>\n",
       "      <td>False</td>\n",
       "      <td>55</td>\n",
       "    </tr>\n",
       "    <tr>\n",
       "      <th>2018-05-17</th>\n",
       "      <td>22.53</td>\n",
       "      <td>129.0</td>\n",
       "      <td>23.77</td>\n",
       "      <td>504.0</td>\n",
       "      <td>Ride</td>\n",
       "      <td>False</td>\n",
       "      <td>66</td>\n",
       "    </tr>\n",
       "    <tr>\n",
       "      <th>2018-05-16</th>\n",
       "      <td>10.31</td>\n",
       "      <td>0.0</td>\n",
       "      <td>10.85</td>\n",
       "      <td>347.3</td>\n",
       "      <td>Run</td>\n",
       "      <td>False</td>\n",
       "      <td>68</td>\n",
       "    </tr>\n",
       "    <tr>\n",
       "      <th>2018-05-15</th>\n",
       "      <td>10.54</td>\n",
       "      <td>0.0</td>\n",
       "      <td>5.00</td>\n",
       "      <td>50.0</td>\n",
       "      <td>Run</td>\n",
       "      <td>False</td>\n",
       "      <td>31</td>\n",
       "    </tr>\n",
       "    <tr>\n",
       "      <th>2018-05-12</th>\n",
       "      <td>26.24</td>\n",
       "      <td>121.9</td>\n",
       "      <td>129.49</td>\n",
       "      <td>1833.0</td>\n",
       "      <td>Ride</td>\n",
       "      <td>False</td>\n",
       "      <td>355</td>\n",
       "    </tr>\n",
       "    <tr>\n",
       "      <th>2018-05-05</th>\n",
       "      <td>10.81</td>\n",
       "      <td>0.0</td>\n",
       "      <td>3.34</td>\n",
       "      <td>50.0</td>\n",
       "      <td>Run</td>\n",
       "      <td>False</td>\n",
       "      <td>18</td>\n",
       "    </tr>\n",
       "    <tr>\n",
       "      <th>2018-05-04</th>\n",
       "      <td>10.77</td>\n",
       "      <td>0.0</td>\n",
       "      <td>5.89</td>\n",
       "      <td>35.9</td>\n",
       "      <td>Run</td>\n",
       "      <td>False</td>\n",
       "      <td>36</td>\n",
       "    </tr>\n",
       "    <tr>\n",
       "      <th>2018-05-02</th>\n",
       "      <td>11.21</td>\n",
       "      <td>0.0</td>\n",
       "      <td>8.16</td>\n",
       "      <td>46.9</td>\n",
       "      <td>Run</td>\n",
       "      <td>False</td>\n",
       "      <td>46</td>\n",
       "    </tr>\n",
       "    <tr>\n",
       "      <th>2018-05-01</th>\n",
       "      <td>28.35</td>\n",
       "      <td>105.1</td>\n",
       "      <td>24.16</td>\n",
       "      <td>99.0</td>\n",
       "      <td>Ride</td>\n",
       "      <td>False</td>\n",
       "      <td>51</td>\n",
       "    </tr>\n",
       "  </tbody>\n",
       "</table>\n",
       "</div>"
      ],
      "text/plain": [
       "            average_speed  average_watts  distance  total_elevation_gain  \\\n",
       "date                                                                       \n",
       "2018-05-21          19.67          131.7     51.69                1414.0   \n",
       "2018-05-20          25.01          127.8    133.13                2280.0   \n",
       "2018-05-19          24.67          136.4    108.42                1950.0   \n",
       "2018-05-18          24.32          135.3     59.02                 937.0   \n",
       "2018-05-17          26.83          117.7     23.83                 122.0   \n",
       "2018-05-17          22.53          129.0     23.77                 504.0   \n",
       "2018-05-16          10.31            0.0     10.85                 347.3   \n",
       "2018-05-15          10.54            0.0      5.00                  50.0   \n",
       "2018-05-12          26.24          121.9    129.49                1833.0   \n",
       "2018-05-05          10.81            0.0      3.34                  50.0   \n",
       "2018-05-04          10.77            0.0      5.89                  35.9   \n",
       "2018-05-02          11.21            0.0      8.16                  46.9   \n",
       "2018-05-01          28.35          105.1     24.16                  99.0   \n",
       "\n",
       "            type  commute  time_min  \n",
       "date                                 \n",
       "2018-05-21  Ride    False       203  \n",
       "2018-05-20  Ride    False       377  \n",
       "2018-05-19  Ride    False       279  \n",
       "2018-05-18  Ride    False       158  \n",
       "2018-05-17  Ride    False        55  \n",
       "2018-05-17  Ride    False        66  \n",
       "2018-05-16   Run    False        68  \n",
       "2018-05-15   Run    False        31  \n",
       "2018-05-12  Ride    False       355  \n",
       "2018-05-05   Run    False        18  \n",
       "2018-05-04   Run    False        36  \n",
       "2018-05-02   Run    False        46  \n",
       "2018-05-01  Ride    False        51  "
      ]
     },
     "execution_count": 28,
     "metadata": {},
     "output_type": "execute_result"
    }
   ],
   "source": [
    "df.loc['May 2018']"
   ]
  },
  {
   "cell_type": "markdown",
   "metadata": {},
   "source": [
    "# Outliers"
   ]
  },
  {
   "cell_type": "markdown",
   "metadata": {},
   "source": [
    "Now that we cleaned all of our individual colums the next time is to remove any outliers from our data. The definition of what constitudes and outlier is depends on the particular data set and applications.\n",
    "\n",
    "For our example we will say that a point is an outlier if it is more than the standard deviation away from the mean. We will then remove all observations which contain an outlier in any of the column.\n",
    "\n",
    "However for this to make sense we must define the mean and standard with respect to the type of activity. In order to do this we need to learn about a major taks in data analysis: splitting data into groups\n",
    "\n",
    "\n",
    "<img src=\"pandas.DataFrame.groupby.png\" alt=\"drawing\" style=\"width: 700px;\"/>"
   ]
  },
  {
   "cell_type": "code",
   "execution_count": 29,
   "metadata": {},
   "outputs": [
    {
     "data": {
      "text/plain": [
       "<pandas.core.groupby.DataFrameGroupBy object at 0x110d904e0>"
      ]
     },
     "execution_count": 29,
     "metadata": {},
     "output_type": "execute_result"
    }
   ],
   "source": [
    "grouped = df.drop('commute', axis=1).groupby('type')\n",
    "grouped"
   ]
  },
  {
   "cell_type": "markdown",
   "metadata": {},
   "source": [
    "Let's investigate a bit this groupby object"
   ]
  },
  {
   "cell_type": "code",
   "execution_count": 30,
   "metadata": {},
   "outputs": [
    {
     "data": {
      "text/html": [
       "<div>\n",
       "<style scoped>\n",
       "    .dataframe tbody tr th:only-of-type {\n",
       "        vertical-align: middle;\n",
       "    }\n",
       "\n",
       "    .dataframe tbody tr th {\n",
       "        vertical-align: top;\n",
       "    }\n",
       "\n",
       "    .dataframe thead tr th {\n",
       "        text-align: left;\n",
       "    }\n",
       "\n",
       "    .dataframe thead tr:last-of-type th {\n",
       "        text-align: right;\n",
       "    }\n",
       "</style>\n",
       "<table border=\"1\" class=\"dataframe\">\n",
       "  <thead>\n",
       "    <tr>\n",
       "      <th></th>\n",
       "      <th colspan=\"8\" halign=\"left\">average_speed</th>\n",
       "      <th colspan=\"2\" halign=\"left\">average_watts</th>\n",
       "      <th>...</th>\n",
       "      <th colspan=\"2\" halign=\"left\">time_min</th>\n",
       "      <th colspan=\"8\" halign=\"left\">total_elevation_gain</th>\n",
       "    </tr>\n",
       "    <tr>\n",
       "      <th></th>\n",
       "      <th>count</th>\n",
       "      <th>mean</th>\n",
       "      <th>std</th>\n",
       "      <th>min</th>\n",
       "      <th>25%</th>\n",
       "      <th>50%</th>\n",
       "      <th>75%</th>\n",
       "      <th>max</th>\n",
       "      <th>count</th>\n",
       "      <th>mean</th>\n",
       "      <th>...</th>\n",
       "      <th>75%</th>\n",
       "      <th>max</th>\n",
       "      <th>count</th>\n",
       "      <th>mean</th>\n",
       "      <th>std</th>\n",
       "      <th>min</th>\n",
       "      <th>25%</th>\n",
       "      <th>50%</th>\n",
       "      <th>75%</th>\n",
       "      <th>max</th>\n",
       "    </tr>\n",
       "    <tr>\n",
       "      <th>type</th>\n",
       "      <th></th>\n",
       "      <th></th>\n",
       "      <th></th>\n",
       "      <th></th>\n",
       "      <th></th>\n",
       "      <th></th>\n",
       "      <th></th>\n",
       "      <th></th>\n",
       "      <th></th>\n",
       "      <th></th>\n",
       "      <th></th>\n",
       "      <th></th>\n",
       "      <th></th>\n",
       "      <th></th>\n",
       "      <th></th>\n",
       "      <th></th>\n",
       "      <th></th>\n",
       "      <th></th>\n",
       "      <th></th>\n",
       "      <th></th>\n",
       "      <th></th>\n",
       "    </tr>\n",
       "  </thead>\n",
       "  <tbody>\n",
       "    <tr>\n",
       "      <th>Ride</th>\n",
       "      <td>337.0</td>\n",
       "      <td>24.334362</td>\n",
       "      <td>3.138615</td>\n",
       "      <td>13.58</td>\n",
       "      <td>22.30</td>\n",
       "      <td>24.32</td>\n",
       "      <td>26.25</td>\n",
       "      <td>36.86</td>\n",
       "      <td>337.0</td>\n",
       "      <td>133.594362</td>\n",
       "      <td>...</td>\n",
       "      <td>288.0</td>\n",
       "      <td>5705.0</td>\n",
       "      <td>337.0</td>\n",
       "      <td>1128.331751</td>\n",
       "      <td>975.227155</td>\n",
       "      <td>33.0</td>\n",
       "      <td>366.3</td>\n",
       "      <td>884.6</td>\n",
       "      <td>1530.4</td>\n",
       "      <td>5799.2</td>\n",
       "    </tr>\n",
       "    <tr>\n",
       "      <th>Run</th>\n",
       "      <td>585.0</td>\n",
       "      <td>10.188615</td>\n",
       "      <td>1.305560</td>\n",
       "      <td>4.04</td>\n",
       "      <td>9.55</td>\n",
       "      <td>10.30</td>\n",
       "      <td>10.97</td>\n",
       "      <td>14.50</td>\n",
       "      <td>585.0</td>\n",
       "      <td>0.000000</td>\n",
       "      <td>...</td>\n",
       "      <td>105.0</td>\n",
       "      <td>458.0</td>\n",
       "      <td>585.0</td>\n",
       "      <td>167.535556</td>\n",
       "      <td>304.856658</td>\n",
       "      <td>0.0</td>\n",
       "      <td>24.2</td>\n",
       "      <td>75.2</td>\n",
       "      <td>160.4</td>\n",
       "      <td>2253.4</td>\n",
       "    </tr>\n",
       "  </tbody>\n",
       "</table>\n",
       "<p>2 rows × 40 columns</p>\n",
       "</div>"
      ],
      "text/plain": [
       "     average_speed                                                          \\\n",
       "             count       mean       std    min    25%    50%    75%    max   \n",
       "type                                                                         \n",
       "Ride         337.0  24.334362  3.138615  13.58  22.30  24.32  26.25  36.86   \n",
       "Run          585.0  10.188615  1.305560   4.04   9.55  10.30  10.97  14.50   \n",
       "\n",
       "     average_watts               ...   time_min         total_elevation_gain  \\\n",
       "             count        mean   ...        75%     max                count   \n",
       "type                             ...                                           \n",
       "Ride         337.0  133.594362   ...      288.0  5705.0                337.0   \n",
       "Run          585.0    0.000000   ...      105.0   458.0                585.0   \n",
       "\n",
       "                                                                   \n",
       "             mean         std   min    25%    50%     75%     max  \n",
       "type                                                               \n",
       "Ride  1128.331751  975.227155  33.0  366.3  884.6  1530.4  5799.2  \n",
       "Run    167.535556  304.856658   0.0   24.2   75.2   160.4  2253.4  \n",
       "\n",
       "[2 rows x 40 columns]"
      ]
     },
     "execution_count": 30,
     "metadata": {},
     "output_type": "execute_result"
    }
   ],
   "source": [
    "grouped.describe()"
   ]
  },
  {
   "cell_type": "markdown",
   "metadata": {},
   "source": [
    "We can get a list of all the group names"
   ]
  },
  {
   "cell_type": "markdown",
   "metadata": {},
   "source": [
    "Most commonly we will use the DataFrameGroupBy object to perform aggregations or transformations."
   ]
  },
  {
   "cell_type": "code",
   "execution_count": 31,
   "metadata": {},
   "outputs": [
    {
     "data": {
      "text/html": [
       "<div>\n",
       "<style scoped>\n",
       "    .dataframe tbody tr th:only-of-type {\n",
       "        vertical-align: middle;\n",
       "    }\n",
       "\n",
       "    .dataframe tbody tr th {\n",
       "        vertical-align: top;\n",
       "    }\n",
       "\n",
       "    .dataframe thead th {\n",
       "        text-align: right;\n",
       "    }\n",
       "</style>\n",
       "<table border=\"1\" class=\"dataframe\">\n",
       "  <thead>\n",
       "    <tr style=\"text-align: right;\">\n",
       "      <th></th>\n",
       "      <th>average_speed</th>\n",
       "      <th>average_watts</th>\n",
       "      <th>distance</th>\n",
       "      <th>total_elevation_gain</th>\n",
       "      <th>time_min</th>\n",
       "    </tr>\n",
       "    <tr>\n",
       "      <th>type</th>\n",
       "      <th></th>\n",
       "      <th></th>\n",
       "      <th></th>\n",
       "      <th></th>\n",
       "      <th></th>\n",
       "    </tr>\n",
       "  </thead>\n",
       "  <tbody>\n",
       "    <tr>\n",
       "      <th>Ride</th>\n",
       "      <td>24.334362</td>\n",
       "      <td>133.594362</td>\n",
       "      <td>70.086499</td>\n",
       "      <td>1128.331751</td>\n",
       "      <td>226.412463</td>\n",
       "    </tr>\n",
       "    <tr>\n",
       "      <th>Run</th>\n",
       "      <td>10.188615</td>\n",
       "      <td>0.000000</td>\n",
       "      <td>10.563402</td>\n",
       "      <td>167.535556</td>\n",
       "      <td>75.030769</td>\n",
       "    </tr>\n",
       "  </tbody>\n",
       "</table>\n",
       "</div>"
      ],
      "text/plain": [
       "      average_speed  average_watts   distance  total_elevation_gain  \\\n",
       "type                                                                  \n",
       "Ride      24.334362     133.594362  70.086499           1128.331751   \n",
       "Run       10.188615       0.000000  10.563402            167.535556   \n",
       "\n",
       "        time_min  \n",
       "type              \n",
       "Ride  226.412463  \n",
       "Run    75.030769  "
      ]
     },
     "execution_count": 31,
     "metadata": {},
     "output_type": "execute_result"
    }
   ],
   "source": [
    "grouped.mean()"
   ]
  },
  {
   "cell_type": "code",
   "execution_count": 32,
   "metadata": {},
   "outputs": [
    {
     "data": {
      "text/html": [
       "<div>\n",
       "<style scoped>\n",
       "    .dataframe tbody tr th:only-of-type {\n",
       "        vertical-align: middle;\n",
       "    }\n",
       "\n",
       "    .dataframe tbody tr th {\n",
       "        vertical-align: top;\n",
       "    }\n",
       "\n",
       "    .dataframe thead th {\n",
       "        text-align: right;\n",
       "    }\n",
       "</style>\n",
       "<table border=\"1\" class=\"dataframe\">\n",
       "  <thead>\n",
       "    <tr style=\"text-align: right;\">\n",
       "      <th></th>\n",
       "      <th>average_speed</th>\n",
       "      <th>average_watts</th>\n",
       "      <th>distance</th>\n",
       "      <th>total_elevation_gain</th>\n",
       "      <th>time_min</th>\n",
       "    </tr>\n",
       "    <tr>\n",
       "      <th>type</th>\n",
       "      <th></th>\n",
       "      <th></th>\n",
       "      <th></th>\n",
       "      <th></th>\n",
       "      <th></th>\n",
       "    </tr>\n",
       "  </thead>\n",
       "  <tbody>\n",
       "    <tr>\n",
       "      <th>Ride</th>\n",
       "      <td>36.86</td>\n",
       "      <td>269.3</td>\n",
       "      <td>210.09</td>\n",
       "      <td>5799.2</td>\n",
       "      <td>5705</td>\n",
       "    </tr>\n",
       "    <tr>\n",
       "      <th>Run</th>\n",
       "      <td>14.50</td>\n",
       "      <td>0.0</td>\n",
       "      <td>50.66</td>\n",
       "      <td>2253.4</td>\n",
       "      <td>458</td>\n",
       "    </tr>\n",
       "  </tbody>\n",
       "</table>\n",
       "</div>"
      ],
      "text/plain": [
       "      average_speed  average_watts  distance  total_elevation_gain  time_min\n",
       "type                                                                        \n",
       "Ride          36.86          269.3    210.09                5799.2      5705\n",
       "Run           14.50            0.0     50.66                2253.4       458"
      ]
     },
     "execution_count": 32,
     "metadata": {},
     "output_type": "execute_result"
    }
   ],
   "source": [
    "grouped.max()"
   ]
  },
  {
   "cell_type": "markdown",
   "metadata": {},
   "source": [
    "### Applying functions on to a groupby object\n",
    "\n",
    "The groupby object has four methods that accept a functionto perform a calculation on each group:\n",
    "\n",
    "\n",
    "* `agg`: returns a scalar,  is called multiple times per group (once for each non-grouping column)\n",
    "* `filter`: returns a boolean \n",
    "* `transform`: returns a Series with the same length as the passed group, is called multiple times per group (once for each non-grouping column)\n",
    "* `apply`: flexible return type, is called only once per group"
   ]
  },
  {
   "cell_type": "markdown",
   "metadata": {},
   "source": [
    "In our case we want to apply a function to each group that removes the outliers. Since this is a per column operation we must use the `tranform` method.\n",
    "\n",
    "What would our function look like?"
   ]
  },
  {
   "cell_type": "code",
   "execution_count": 33,
   "metadata": {
    "collapsed": true
   },
   "outputs": [],
   "source": [
    "def f(group):\n",
    "    return (group-group.mean()).abs().div(group.std()) "
   ]
  },
  {
   "cell_type": "code",
   "execution_count": 34,
   "metadata": {},
   "outputs": [
    {
     "data": {
      "text/html": [
       "<div>\n",
       "<style scoped>\n",
       "    .dataframe tbody tr th:only-of-type {\n",
       "        vertical-align: middle;\n",
       "    }\n",
       "\n",
       "    .dataframe tbody tr th {\n",
       "        vertical-align: top;\n",
       "    }\n",
       "\n",
       "    .dataframe thead th {\n",
       "        text-align: right;\n",
       "    }\n",
       "</style>\n",
       "<table border=\"1\" class=\"dataframe\">\n",
       "  <thead>\n",
       "    <tr style=\"text-align: right;\">\n",
       "      <th></th>\n",
       "      <th>average_speed</th>\n",
       "      <th>average_watts</th>\n",
       "      <th>distance</th>\n",
       "      <th>total_elevation_gain</th>\n",
       "      <th>time_min</th>\n",
       "    </tr>\n",
       "    <tr>\n",
       "      <th>date</th>\n",
       "      <th></th>\n",
       "      <th></th>\n",
       "      <th></th>\n",
       "      <th></th>\n",
       "      <th></th>\n",
       "    </tr>\n",
       "  </thead>\n",
       "  <tbody>\n",
       "    <tr>\n",
       "      <th>2018-05-21</th>\n",
       "      <td>1.486121</td>\n",
       "      <td>0.065934</td>\n",
       "      <td>0.445696</td>\n",
       "      <td>0.292925</td>\n",
       "      <td>0.070490</td>\n",
       "    </tr>\n",
       "    <tr>\n",
       "      <th>2018-05-20</th>\n",
       "      <td>0.215266</td>\n",
       "      <td>0.201675</td>\n",
       "      <td>1.527370</td>\n",
       "      <td>1.180923</td>\n",
       "      <td>0.453386</td>\n",
       "    </tr>\n",
       "    <tr>\n",
       "      <th>2018-05-19</th>\n",
       "      <td>0.106938</td>\n",
       "      <td>0.097651</td>\n",
       "      <td>0.928715</td>\n",
       "      <td>0.842540</td>\n",
       "      <td>0.158329</td>\n",
       "    </tr>\n",
       "    <tr>\n",
       "      <th>2018-05-18</th>\n",
       "      <td>0.004576</td>\n",
       "      <td>0.059365</td>\n",
       "      <td>0.268111</td>\n",
       "      <td>0.196192</td>\n",
       "      <td>0.205975</td>\n",
       "    </tr>\n",
       "    <tr>\n",
       "      <th>2018-05-17</th>\n",
       "      <td>0.795140</td>\n",
       "      <td>0.553210</td>\n",
       "      <td>1.120667</td>\n",
       "      <td>1.031895</td>\n",
       "      <td>0.516085</td>\n",
       "    </tr>\n",
       "  </tbody>\n",
       "</table>\n",
       "</div>"
      ],
      "text/plain": [
       "            average_speed  average_watts  distance  total_elevation_gain  \\\n",
       "date                                                                       \n",
       "2018-05-21       1.486121       0.065934  0.445696              0.292925   \n",
       "2018-05-20       0.215266       0.201675  1.527370              1.180923   \n",
       "2018-05-19       0.106938       0.097651  0.928715              0.842540   \n",
       "2018-05-18       0.004576       0.059365  0.268111              0.196192   \n",
       "2018-05-17       0.795140       0.553210  1.120667              1.031895   \n",
       "\n",
       "            time_min  \n",
       "date                  \n",
       "2018-05-21  0.070490  \n",
       "2018-05-20  0.453386  \n",
       "2018-05-19  0.158329  \n",
       "2018-05-18  0.205975  \n",
       "2018-05-17  0.516085  "
      ]
     },
     "execution_count": 34,
     "metadata": {},
     "output_type": "execute_result"
    }
   ],
   "source": [
    "grouped.transform(f).head()"
   ]
  },
  {
   "cell_type": "code",
   "execution_count": 35,
   "metadata": {},
   "outputs": [],
   "source": [
    "outliers = grouped.transform(f)>2.5"
   ]
  },
  {
   "cell_type": "code",
   "execution_count": 36,
   "metadata": {},
   "outputs": [
    {
     "data": {
      "text/plain": [
       "(50, 7)"
      ]
     },
     "execution_count": 36,
     "metadata": {},
     "output_type": "execute_result"
    }
   ],
   "source": [
    "df[outliers.any(axis=1)].shape"
   ]
  },
  {
   "cell_type": "code",
   "execution_count": 37,
   "metadata": {},
   "outputs": [
    {
     "data": {
      "text/plain": [
       "(872, 7)"
      ]
     },
     "execution_count": 37,
     "metadata": {},
     "output_type": "execute_result"
    }
   ],
   "source": [
    "df = df[~outliers.any(axis=1)]\n",
    "df.shape"
   ]
  },
  {
   "cell_type": "code",
   "execution_count": 38,
   "metadata": {},
   "outputs": [],
   "source": [
    "df.to_csv('activities_clean.csv')"
   ]
  },
  {
   "cell_type": "markdown",
   "metadata": {
    "collapsed": true
   },
   "source": [
    "# Exercise: \n",
    "\n",
    "1. In this exercise we group the activities according to the following three groups:\n",
    "\n",
    "    * runs\n",
    "    * commute run\n",
    "    * non-commute rides\n",
    "    * commute rides\n",
    "\n",
    "2. Calculate the total time of all activities per group as a percentage of the total time  across all activities.\n",
    "\n",
    "3. Compute the hardness per group where hardness is defined as \n",
    "\n",
    "```\n",
    "hardness = 0.2*average_speed.mean() + \n",
    "+ 0.5*distance.mean() \n",
    "+ 0.3*total_elevation_gain.mean()\n",
    "```\n",
    "\n",
    "Are commutes or non commutes harder?"
   ]
  },
  {
   "cell_type": "code",
   "execution_count": 39,
   "metadata": {},
   "outputs": [],
   "source": [
    "grouped = df[['time_min', 'type', 'commute']].groupby(['type','commute'])"
   ]
  },
  {
   "cell_type": "code",
   "execution_count": 40,
   "metadata": {},
   "outputs": [
    {
     "data": {
      "text/html": [
       "<div>\n",
       "<style scoped>\n",
       "    .dataframe tbody tr th:only-of-type {\n",
       "        vertical-align: middle;\n",
       "    }\n",
       "\n",
       "    .dataframe tbody tr th {\n",
       "        vertical-align: top;\n",
       "    }\n",
       "\n",
       "    .dataframe thead th {\n",
       "        text-align: right;\n",
       "    }\n",
       "</style>\n",
       "<table border=\"1\" class=\"dataframe\">\n",
       "  <thead>\n",
       "    <tr style=\"text-align: right;\">\n",
       "      <th></th>\n",
       "      <th></th>\n",
       "      <th>time_min</th>\n",
       "    </tr>\n",
       "    <tr>\n",
       "      <th>type</th>\n",
       "      <th>commute</th>\n",
       "      <th></th>\n",
       "    </tr>\n",
       "  </thead>\n",
       "  <tbody>\n",
       "    <tr>\n",
       "      <th rowspan=\"2\" valign=\"top\">Ride</th>\n",
       "      <th>False</th>\n",
       "      <td>60641</td>\n",
       "    </tr>\n",
       "    <tr>\n",
       "      <th>True</th>\n",
       "      <td>1122</td>\n",
       "    </tr>\n",
       "    <tr>\n",
       "      <th rowspan=\"2\" valign=\"top\">Run</th>\n",
       "      <th>False</th>\n",
       "      <td>36870</td>\n",
       "    </tr>\n",
       "    <tr>\n",
       "      <th>True</th>\n",
       "      <td>777</td>\n",
       "    </tr>\n",
       "  </tbody>\n",
       "</table>\n",
       "</div>"
      ],
      "text/plain": [
       "              time_min\n",
       "type commute          \n",
       "Ride False       60641\n",
       "     True         1122\n",
       "Run  False       36870\n",
       "     True          777"
      ]
     },
     "execution_count": 40,
     "metadata": {},
     "output_type": "execute_result"
    }
   ],
   "source": [
    "result = grouped.sum()\n",
    "result"
   ]
  },
  {
   "cell_type": "code",
   "execution_count": 43,
   "metadata": {},
   "outputs": [
    {
     "data": {
      "text/html": [
       "<div>\n",
       "<style scoped>\n",
       "    .dataframe tbody tr th:only-of-type {\n",
       "        vertical-align: middle;\n",
       "    }\n",
       "\n",
       "    .dataframe tbody tr th {\n",
       "        vertical-align: top;\n",
       "    }\n",
       "\n",
       "    .dataframe thead th {\n",
       "        text-align: right;\n",
       "    }\n",
       "</style>\n",
       "<table border=\"1\" class=\"dataframe\">\n",
       "  <thead>\n",
       "    <tr style=\"text-align: right;\">\n",
       "      <th></th>\n",
       "      <th></th>\n",
       "      <th>time_min</th>\n",
       "      <th>percentage</th>\n",
       "    </tr>\n",
       "    <tr>\n",
       "      <th>type</th>\n",
       "      <th>commute</th>\n",
       "      <th></th>\n",
       "      <th></th>\n",
       "    </tr>\n",
       "  </thead>\n",
       "  <tbody>\n",
       "    <tr>\n",
       "      <th rowspan=\"2\" valign=\"top\">Ride</th>\n",
       "      <th>False</th>\n",
       "      <td>60641</td>\n",
       "      <td>61.000905</td>\n",
       "    </tr>\n",
       "    <tr>\n",
       "      <th>True</th>\n",
       "      <td>1122</td>\n",
       "      <td>1.128659</td>\n",
       "    </tr>\n",
       "    <tr>\n",
       "      <th rowspan=\"2\" valign=\"top\">Run</th>\n",
       "      <th>False</th>\n",
       "      <td>36870</td>\n",
       "      <td>37.088824</td>\n",
       "    </tr>\n",
       "    <tr>\n",
       "      <th>True</th>\n",
       "      <td>777</td>\n",
       "      <td>0.781612</td>\n",
       "    </tr>\n",
       "  </tbody>\n",
       "</table>\n",
       "</div>"
      ],
      "text/plain": [
       "              time_min  percentage\n",
       "type commute                      \n",
       "Ride False       60641   61.000905\n",
       "     True         1122    1.128659\n",
       "Run  False       36870   37.088824\n",
       "     True          777    0.781612"
      ]
     },
     "execution_count": 43,
     "metadata": {},
     "output_type": "execute_result"
    }
   ],
   "source": [
    "total_time = df['time_min'].sum()\n",
    "result['percentage'] = result['time_min']/total_time*100\n",
    "result"
   ]
  },
  {
   "cell_type": "code",
   "execution_count": 44,
   "metadata": {},
   "outputs": [],
   "source": [
    "def hardness(group):\n",
    "    return 0.2*group['average_speed'].mean()+0.5*group['distance'].mean()+0.3*group['total_elevation_gain'].mean()"
   ]
  },
  {
   "cell_type": "code",
   "execution_count": 45,
   "metadata": {},
   "outputs": [
    {
     "data": {
      "text/plain": [
       "type  commute\n",
       "Ride  False      361.812855\n",
       "      True        68.534700\n",
       "Run   False       42.978413\n",
       "      True        39.009889\n",
       "dtype: float64"
      ]
     },
     "execution_count": 45,
     "metadata": {},
     "output_type": "execute_result"
    }
   ],
   "source": [
    "df.groupby(['type', 'commute']).apply(hardness)"
   ]
  },
  {
   "cell_type": "code",
   "execution_count": null,
   "metadata": {
    "collapsed": true
   },
   "outputs": [],
   "source": []
  }
 ],
 "metadata": {
  "kernelspec": {
   "display_name": "Python 3",
   "language": "python",
   "name": "python3"
  },
  "language_info": {
   "codemirror_mode": {
    "name": "ipython",
    "version": 3
   },
   "file_extension": ".py",
   "mimetype": "text/x-python",
   "name": "python",
   "nbconvert_exporter": "python",
   "pygments_lexer": "ipython3",
   "version": "3.6.2"
  }
 },
 "nbformat": 4,
 "nbformat_minor": 2
}
